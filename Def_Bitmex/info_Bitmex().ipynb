{
 "cells": [
  {
   "cell_type": "code",
   "execution_count": 166,
   "metadata": {},
   "outputs": [],
   "source": [
    "import ccxt\n",
    "import csv\n",
    "from pprint import pprint"
   ]
  },
  {
   "cell_type": "code",
   "execution_count": 177,
   "metadata": {},
   "outputs": [],
   "source": [
    "def info_Bitmex(limit, argument = 1):\n",
    "    bitmex = ccxt.bitmex({})\n",
    "    timeframe = ' '\n",
    "    # their max is 500, default is 100 candles\n",
    "    since = bitmex.milliseconds () - limit * 60 * 1000\n",
    "    if(argument == 1):\n",
    "        timeframe = '1m'\n",
    "    elif(argument == 2):\n",
    "        timeframe = '5m'\n",
    "    elif(argument == 3):\n",
    "        timeframe = '1h'\n",
    "    elif(argument == 4):\n",
    "        timeframe = '1d'\n",
    "    candles = bitmex.fetch_ohlcv('BTC/USD', timeframe, since, limit)\n",
    "    var = [([bitmex.iso8601(candle[0])] + candle[1:]) for candle in candles]\n",
    "    myFile = open('file.csv', 'w')\n",
    "    with myFile:\n",
    "        writer = csv.writer(myFile)\n",
    "        writer.writerows(var)\n",
    "    pprint(writer)\n",
    "    pprint(\"complete\")"
   ]
  },
  {
   "cell_type": "code",
   "execution_count": 180,
   "metadata": {},
   "outputs": [
    {
     "name": "stdout",
     "output_type": "stream",
     "text": [
      "<_csv.writer object at 0x0000020D29AECAF0>\n",
      "'complete'\n"
     ]
    }
   ],
   "source": [
    "info_Bitmex(500, 4)"
   ]
  }
 ],
 "metadata": {
  "kernelspec": {
   "display_name": "Python 3",
   "language": "python",
   "name": "python3"
  },
  "language_info": {
   "codemirror_mode": {
    "name": "ipython",
    "version": 3
   },
   "file_extension": ".py",
   "mimetype": "text/x-python",
   "name": "python",
   "nbconvert_exporter": "python",
   "pygments_lexer": "ipython3",
   "version": "3.7.1"
  }
 },
 "nbformat": 4,
 "nbformat_minor": 2
}
